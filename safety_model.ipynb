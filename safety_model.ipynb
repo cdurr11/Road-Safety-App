{
 "cells": [
  {
   "cell_type": "code",
   "execution_count": 90,
   "metadata": {},
   "outputs": [],
   "source": [
    "import pandas as pd\n",
    "import numpy as np\n",
    "import geopandas as gpd\n",
    "import matplotlib.pyplot as plt\n",
    "from shapely.geometry import Point\n",
    "from shapely.ops import nearest_points\n",
    "from IPython.display import display\n",
    "from datetime import timedelta, date, datetime\n",
    "pd.options.display.max_columns = None"
   ]
  },
  {
   "cell_type": "code",
   "execution_count": 504,
   "metadata": {},
   "outputs": [],
   "source": [
    "joined = pd.read_csv('chi_collisions/joined2.csv', low_memory=False)"
   ]
  },
  {
   "cell_type": "code",
   "execution_count": 505,
   "metadata": {},
   "outputs": [],
   "source": [
    "joined = joined[['trans_id', 'CRASH_DA_1']]\n",
    "joined = joined.rename({'CRASH_DA_1': 'date_and_time'}, axis=1)\n",
    "joined.trans_id = joined.trans_id.astype(int)\n",
    "joined.date_and_time = pd.to_datetime(joined.date_and_time)"
   ]
  },
  {
   "cell_type": "code",
   "execution_count": 506,
   "metadata": {},
   "outputs": [],
   "source": [
    "streets_file = 'chi_roads/Street Center Lines/geo_export_3707e052-5aa1-4bf6-8676-474b93a57dde.shp'\n",
    "streets = gpd.GeoDataFrame.from_file(streets_file)\n",
    "streets['longitude'] = streets.centroid.x\n",
    "streets['latitude'] = streets.centroid.y\n",
    "streets = streets[['trans_id','class', 'dir_travel', 'length', 'street_nam', 'street_typ', 'latitude', 'longitude']]\n",
    "streets.trans_id = streets.trans_id.astype(int)"
   ]
  },
  {
   "cell_type": "code",
   "execution_count": 507,
   "metadata": {},
   "outputs": [],
   "source": [
    "joined = pd.merge(left=joined, right=streets, left_on='trans_id', right_on='trans_id', how='outer')"
   ]
  },
  {
   "cell_type": "code",
   "execution_count": null,
   "metadata": {},
   "outputs": [],
   "source": []
  },
  {
   "cell_type": "code",
   "execution_count": 509,
   "metadata": {},
   "outputs": [],
   "source": [
    "crashes = joined[joined.date_and_time.notnull()]\n",
    "crashes = crashes[crashes.date_and_time >= '2017-7-1']"
   ]
  },
  {
   "cell_type": "code",
   "execution_count": 510,
   "metadata": {},
   "outputs": [],
   "source": [
    "roads = joined[joined.trans_id.duplicated(keep='first') == False]"
   ]
  },
  {
   "cell_type": "code",
   "execution_count": 511,
   "metadata": {},
   "outputs": [],
   "source": [
    "traffic_counts = pd.read_csv('chi_roads/traffic_counts.csv')\n",
    "traffic_counts = traffic_counts.rename({'join_trans_id': 'trans_id', 'Total Passing Vehicle Volume': 'volume'}, axis=1)"
   ]
  },
  {
   "cell_type": "code",
   "execution_count": 512,
   "metadata": {},
   "outputs": [],
   "source": [
    "traffic_counts = traffic_counts[['trans_id', 'volume']]"
   ]
  },
  {
   "cell_type": "code",
   "execution_count": 513,
   "metadata": {},
   "outputs": [],
   "source": [
    "roads_full = pd.merge(left=roads, right=traffic_counts, left_on='trans_id', right_on='trans_id', how='left')\n",
    "traffic_counts = pd.merge(left=traffic_counts, right=roads, left_on='trans_id', right_on='trans_id')"
   ]
  },
  {
   "cell_type": "code",
   "execution_count": 514,
   "metadata": {},
   "outputs": [],
   "source": [
    "roads_points = [Point(xy) for xy in zip(roads_full.latitude, roads_full.longitude)]\n",
    "counts_points = [Point(xy) for xy in zip(traffic_counts.latitude, traffic_counts.longitude)]\n",
    "traffic_counts['geo'] = counts_points\n",
    "roads_full['geo'] = roads_points"
   ]
  },
  {
   "cell_type": "code",
   "execution_count": 515,
   "metadata": {},
   "outputs": [
    {
     "name": "stdout",
     "output_type": "stream",
     "text": [
      "0\n",
      "1000\n",
      "2000\n",
      "3000\n",
      "4000\n",
      "5000\n",
      "6000\n",
      "7000\n",
      "8000\n",
      "9000\n",
      "10000\n",
      "11000\n",
      "12000\n",
      "13000\n",
      "14000\n",
      "15000\n",
      "16000\n",
      "17000\n",
      "18000\n",
      "19000\n",
      "20000\n",
      "21000\n",
      "22000\n",
      "23000\n",
      "24000\n",
      "25000\n",
      "26000\n",
      "27000\n",
      "28000\n",
      "29000\n",
      "30000\n",
      "31000\n",
      "32000\n",
      "33000\n",
      "34000\n",
      "35000\n",
      "36000\n",
      "37000\n",
      "38000\n",
      "39000\n",
      "40000\n",
      "41000\n",
      "42000\n",
      "43000\n",
      "44000\n",
      "45000\n",
      "46000\n",
      "47000\n",
      "48000\n",
      "49000\n",
      "50000\n",
      "51000\n",
      "52000\n",
      "53000\n",
      "54000\n",
      "55000\n",
      "56000\n"
     ]
    }
   ],
   "source": [
    "c = 0\n",
    "for i, row in roads_full.iterrows():\n",
    "    if c % 1000 == 0:\n",
    "        print(c)\n",
    "    c+=1\n",
    "    if pd.isna(row.volume):\n",
    "        to_check = traffic_counts[traffic_counts['class'] == row['class']]\n",
    "        min_dist = 1000000\n",
    "        min_vol = 0\n",
    "        for j, row2 in to_check.iterrows():\n",
    "            d = row.geo.distance(row2.geo)\n",
    "            if d < min_dist:\n",
    "                min_dist = d\n",
    "                min_vol = row2.volume\n",
    "        roads_full.loc[i, 'volume'] = min_vol"
   ]
  },
  {
   "cell_type": "code",
   "execution_count": 516,
   "metadata": {},
   "outputs": [],
   "source": [
    "vol_map = roads_full.copy().set_index('trans_id')['volume'].to_dict()\n",
    "roads_to_sample = roads_full[roads_full.volume != 0]"
   ]
  },
  {
   "cell_type": "code",
   "execution_count": 517,
   "metadata": {},
   "outputs": [],
   "source": [
    "crashes['volume'] = crashes.apply(lambda x: vol_map[x.trans_id], axis=1)"
   ]
  },
  {
   "cell_type": "code",
   "execution_count": 518,
   "metadata": {},
   "outputs": [],
   "source": [
    "pos_events = crashes.copy().reset_index().drop(['trans_id'], axis=1)\n",
    "pos_events['crash'] = 1\n",
    "pos_events['month'] = pos_events.date_and_time.dt.month\n",
    "pos_events['weekday'] = pos_events.date_and_time.dt.dayofweek\n",
    "pos_events['hour'] = pos_events.date_and_time.dt.hour"
   ]
  },
  {
   "cell_type": "code",
   "execution_count": 519,
   "metadata": {},
   "outputs": [],
   "source": [
    "def daterange(start_date, end_date):\n",
    "    for n in range(int((end_date - start_date).days) * 24):\n",
    "        yield start_date + timedelta(hours=n)"
   ]
  },
  {
   "cell_type": "code",
   "execution_count": 520,
   "metadata": {},
   "outputs": [
    {
     "name": "stdout",
     "output_type": "stream",
     "text": [
      "2017-09-01 00:00:00\n",
      "2017-09-21 20:00:00\n",
      "2017-10-12 16:00:00\n",
      "2017-11-02 12:00:00\n",
      "2017-11-23 08:00:00\n",
      "2017-12-14 04:00:00\n",
      "2018-01-04 00:00:00\n",
      "2018-01-24 20:00:00\n",
      "2018-02-14 16:00:00\n",
      "2018-03-07 12:00:00\n",
      "2018-03-28 08:00:00\n",
      "2018-04-18 04:00:00\n",
      "2018-05-09 00:00:00\n",
      "2018-05-29 20:00:00\n",
      "2018-06-19 16:00:00\n",
      "2018-07-10 12:00:00\n",
      "2018-07-31 08:00:00\n",
      "2018-08-21 04:00:00\n",
      "2018-09-11 00:00:00\n",
      "2018-10-01 20:00:00\n",
      "2018-10-22 16:00:00\n",
      "2018-11-12 12:00:00\n",
      "2018-12-03 08:00:00\n",
      "2018-12-24 04:00:00\n",
      "2019-01-14 00:00:00\n",
      "2019-02-03 20:00:00\n",
      "2019-02-24 16:00:00\n",
      "2019-03-17 12:00:00\n",
      "2019-04-07 08:00:00\n",
      "2019-04-28 04:00:00\n",
      "2019-05-19 00:00:00\n",
      "2019-06-08 20:00:00\n",
      "2019-06-29 16:00:00\n",
      "2019-07-20 12:00:00\n",
      "2019-08-10 08:00:00\n",
      "2019-08-31 04:00:00\n",
      "2019-09-21 00:00:00\n",
      "2019-10-11 20:00:00\n"
     ]
    }
   ],
   "source": [
    "start_date = datetime(2017, 9, 1)\n",
    "end_date = datetime(2019, 11, 1)\n",
    "\n",
    "neg_events = []\n",
    "c = 0\n",
    "for single_date in daterange(start_date, end_date):\n",
    "    pddate = pd.to_datetime(single_date)\n",
    "    m = pddate.month\n",
    "    d = pddate.weekday()\n",
    "    h = pddate.hour\n",
    "    if c % 500 == 0:\n",
    "        print(pddate)\n",
    "    c += 1\n",
    "    df = roads_to_sample.sample(n=70).copy()\n",
    "    df['date_and_time'] = pddate\n",
    "    df['month'] = m\n",
    "    df['weekday'] = d\n",
    "    df['hour'] = h\n",
    "    neg_events.append(df)\n",
    "\n",
    "\n",
    "neg_events = pd.concat(neg_events)"
   ]
  },
  {
   "cell_type": "code",
   "execution_count": 536,
   "metadata": {},
   "outputs": [],
   "source": [
    "data = pos_events.append(neg_events, ignore_index=True, sort=True)"
   ]
  },
  {
   "cell_type": "code",
   "execution_count": 537,
   "metadata": {},
   "outputs": [],
   "source": [
    "data['date'] = data['date_and_time'].dt.date\n",
    "data = data.drop(['index', 'geo'], axis=1)"
   ]
  },
  {
   "cell_type": "code",
   "execution_count": 538,
   "metadata": {},
   "outputs": [],
   "source": [
    "weather = pd.read_csv('chi_weather_daily.csv')[['Date', 'Avg Temp', 'Precipitation Water Equiv', 'Snowfall']]"
   ]
  },
  {
   "cell_type": "code",
   "execution_count": 539,
   "metadata": {},
   "outputs": [],
   "source": [
    "weather['Date'] = pd.to_datetime(weather['Date']).dt.date"
   ]
  },
  {
   "cell_type": "code",
   "execution_count": 540,
   "metadata": {},
   "outputs": [],
   "source": [
    "data = pd.merge(left=data, right=weather, left_on='date', right_on='Date')"
   ]
  },
  {
   "cell_type": "code",
   "execution_count": 541,
   "metadata": {},
   "outputs": [],
   "source": [
    "data = data.fillna(value={'Snowfall': 0, 'crash': 0}).drop(['date', 'Date', 'date_and_time'], axis=1)"
   ]
  },
  {
   "cell_type": "code",
   "execution_count": 545,
   "metadata": {},
   "outputs": [],
   "source": [
    "data.crash = data.crash.astype(int)"
   ]
  },
  {
   "cell_type": "code",
   "execution_count": 575,
   "metadata": {},
   "outputs": [],
   "source": [
    "data.to_csv('data.csv')"
   ]
  },
  {
   "cell_type": "code",
   "execution_count": 566,
   "metadata": {},
   "outputs": [],
   "source": [
    "roads_data = roads_to_sample[['class', 'dir_travel', 'latitude', 'length',\n",
    "       'longitude', 'street_nam', 'street_typ', 'trans_id', 'volume']]"
   ]
  },
  {
   "cell_type": "code",
   "execution_count": 591,
   "metadata": {},
   "outputs": [],
   "source": [
    "from sklearn import svm\n",
    "from sklearn import preprocessing\n",
    "import pandas as pd\n",
    "from sklearn.linear_model import LogisticRegression\n",
    "from sklearn.ensemble import RandomForestClassifier\n",
    "from sklearn import metrics\n",
    "import pickle"
   ]
  },
  {
   "cell_type": "code",
   "execution_count": 592,
   "metadata": {},
   "outputs": [],
   "source": [
    "data = pd.read_csv(\"./data.csv\", index_col=0)\n",
    "data.crash = data.crash.fillna(0)"
   ]
  },
  {
   "cell_type": "code",
   "execution_count": 593,
   "metadata": {},
   "outputs": [],
   "source": [
    "def get_scaled_value(value, mean, std):\n",
    "    return (value - mean)/ std"
   ]
  },
  {
   "cell_type": "code",
   "execution_count": 594,
   "metadata": {},
   "outputs": [],
   "source": [
    "min_max_scaler = preprocessing.MinMaxScaler()"
   ]
  },
  {
   "cell_type": "code",
   "execution_count": 595,
   "metadata": {},
   "outputs": [],
   "source": [
    "data = data.sample(frac=1).reset_index(drop=True)"
   ]
  },
  {
   "cell_type": "code",
   "execution_count": 596,
   "metadata": {},
   "outputs": [],
   "source": [
    "data[['hour']] = (data[['hour']] - 12)/ 12\n",
    "data[['month']] = (data[['month']] - 6) / 6"
   ]
  },
  {
   "cell_type": "code",
   "execution_count": 597,
   "metadata": {},
   "outputs": [],
   "source": [
    "avg_temp_mean = data[['Avg Temp']].mean(axis = 0)\n",
    "avg_temp_std = data[['Avg Temp']].std(axis = 0)\n",
    "avg_rain_mean = data[['Precipitation Water Equiv']].mean(axis = 0)\n",
    "avg_rain_std = data[['Precipitation Water Equiv']].std(axis = 0)\n",
    "avg_snow_mean = data[['Snowfall']].mean(axis = 0)\n",
    "avg_snow_std = data[['Snowfall']].std(axis = 0)\n",
    "length_mean = data[['length']].mean(axis = 0)\n",
    "length_std = data[['length']].std(axis = 0)"
   ]
  },
  {
   "cell_type": "code",
   "execution_count": 598,
   "metadata": {},
   "outputs": [],
   "source": [
    "max_volume = 165200\n",
    "min_volume = 0\n",
    "min_lat = 41.644670131999995\n",
    "max_lat = 42.022779861\n",
    "min_long = -87.933976504\n",
    "max_long = -87.52458738699998\n",
    "avg_temp_mean = 52.736361\n",
    "avg_temp_std = 20.625818\n",
    "avg_rain_mean = 0.117716\n",
    "avg_rain_std = 0.329548\n",
    "avg_snow_mean = 0.012092\n",
    "avg_snow_std = 0.104858\n",
    "length_mean = 439.04927\n",
    "length_std = 207.835484"
   ]
  },
  {
   "cell_type": "code",
   "execution_count": 599,
   "metadata": {},
   "outputs": [],
   "source": [
    "data.volume = (data.volume - min_volume) / (max_volume - min_volume)\n",
    "data.latitude = (data.latitude - min_lat) / (max_lat - min_lat)\n",
    "data.longitude = (data.longitude - min_long) / (max_long - min_long)"
   ]
  },
  {
   "cell_type": "code",
   "execution_count": 600,
   "metadata": {},
   "outputs": [],
   "source": [
    "data = pd.concat([data,pd.get_dummies(data['weekday'], prefix='weekday')],axis=1)"
   ]
  },
  {
   "cell_type": "code",
   "execution_count": 601,
   "metadata": {},
   "outputs": [],
   "source": [
    "data = pd.concat([data,pd.get_dummies(data['class'], prefix='class')],axis=1)"
   ]
  },
  {
   "cell_type": "code",
   "execution_count": 602,
   "metadata": {},
   "outputs": [],
   "source": [
    "data[['Avg Temp']] = get_scaled_value(data[['Avg Temp']], avg_temp_mean, avg_temp_std)\n",
    "data[['Precipitation Water Equiv']] = get_scaled_value(data[['Precipitation Water Equiv']], avg_rain_mean, avg_rain_std)\n",
    "data[['Snowfall']] = get_scaled_value(data[['Snowfall']], avg_snow_mean, avg_snow_std)\n",
    "data[['length']] = get_scaled_value(data[['length']], avg_snow_mean, avg_snow_std)"
   ]
  },
  {
   "cell_type": "code",
   "execution_count": null,
   "metadata": {},
   "outputs": [],
   "source": []
  },
  {
   "cell_type": "code",
   "execution_count": 603,
   "metadata": {},
   "outputs": [],
   "source": [
    "data['one_way'] = np.where((data.dir_travel == 'T') | (data.dir_travel == 'F'), 1, 0)"
   ]
  },
  {
   "cell_type": "code",
   "execution_count": 604,
   "metadata": {},
   "outputs": [],
   "source": [
    "data.one_way = data.one_way.astype(int)\n",
    "data.crash = data.crash.astype(int)\n",
    "data = data[data['class'].isna() == False]\n",
    "data = data[data['latitude'].isna() == False]\n",
    "data = data[data['longitude'].isna() == False]"
   ]
  },
  {
   "cell_type": "code",
   "execution_count": 648,
   "metadata": {},
   "outputs": [],
   "source": [
    "y = data[['crash']]\n",
    "X = data.drop(['crash', 'street_nam', 'street_typ', 'trans_id',\n",
    "               'dir_travel', 'class', 'weekday'], axis=1)\n",
    "X = X.to_numpy()\n",
    "y = y.to_numpy()\n",
    "\n",
    "train_x = X[:-300000, :]\n",
    "train_y = y[:-300000, 0].tolist()\n",
    "test_x = X[-300000:, :]\n",
    "test_y = y[-300000:, 0].tolist()"
   ]
  },
  {
   "cell_type": "code",
   "execution_count": 606,
   "metadata": {},
   "outputs": [
    {
     "name": "stdout",
     "output_type": "stream",
     "text": [
      "[1.32141460e-01 1.58387852e-01 1.43212663e-01 1.49552146e-01\n",
      " 5.59284695e-02 7.93911921e-02 9.99513136e-02 5.81472730e-02\n",
      " 3.93942582e-03 7.05008428e-03 6.92334389e-03 7.05306243e-03\n",
      " 6.90631413e-03 6.52678320e-03 7.53315461e-03 7.31131425e-03\n",
      " 1.46582092e-03 1.51433853e-02 8.68926155e-03 2.71250248e-02\n",
      " 1.87779635e-04 6.93549080e-04 1.83370029e-03 2.35851046e-04\n",
      " 3.47658047e-03 1.31351810e-03 6.35748154e-07 9.87904154e-03]\n",
      "Accuracy: 0.8077266666666667\n"
     ]
    }
   ],
   "source": [
    "clf = RandomForestClassifier(n_estimators=50, random_state=0, class_weight='balanced_subsample')\n",
    "clf.fit(train_x, train_y)\n",
    "\n",
    "print(clf.feature_importances_)\n",
    "\n",
    "pred_y = clf.predict(test_x)\n",
    "print(\"Accuracy:\",metrics.accuracy_score(test_y, pred_y))"
   ]
  },
  {
   "cell_type": "code",
   "execution_count": 609,
   "metadata": {},
   "outputs": [
    {
     "data": {
      "image/png": "[encoded data removed]",
      "text/plain": [
       "<Figure size 432x288 with 1 Axes>"
      ]
     },
     "metadata": {
      "needs_background": "light"
     },
     "output_type": "display_data"
    }
   ],
   "source": [
    "feats = clf.feature_importances_.tolist()\n",
    "cols = data.drop(['crash', 'street_nam', 'street_typ', 'trans_id',\n",
    "               'dir_travel', 'class', 'weekday'], axis=1).columns.tolist()\n",
    "weekday_imp = sum(feats[9:16])\n",
    "class_imp = sum(feats[16:-1])\n",
    "feats = feats[:9] + [weekday_imp, class_imp] + feats[-1:]\n",
    "cols = cols[:9] + ['weekday', 'class'] + cols[-1:]\n",
    "cols[7] = 'precipitation'\n",
    "feat_importances = pd.DataFrame(feats, index=cols, columns=['importance']).sort_values(by='importance', ascending=False)\n",
    "feat_importances.plot.bar()\n",
    "plt.title('Random Forest Feature Importances')\n",
    "plt.show()"
   ]
  },
  {
   "cell_type": "code",
   "execution_count": 610,
   "metadata": {},
   "outputs": [],
   "source": [
    "pickle.dump(clf, open('random_forest.sav', 'wb'))"
   ]
  },
  {
   "cell_type": "code",
   "execution_count": 567,
   "metadata": {},
   "outputs": [],
   "source": [
    "roads_data = roads_data.drop(['street_nam', 'street_typ'], axis=1)"
   ]
  },
  {
   "cell_type": "code",
   "execution_count": 568,
   "metadata": {},
   "outputs": [],
   "source": [
    "roads_data['one_way'] = np.where((roads_data.dir_travel == 'T') | (roads_data.dir_travel == 'F'), 1, 0)\n",
    "roads_data.one_way = roads_data.one_way.astype(int)\n",
    "roads_data = roads_data.drop(['dir_travel'], axis=1)\n",
    "roads_data = roads_data[roads_data['class'].isna() == False]\n",
    "roads_data = roads_data[roads_data['latitude'].isna() == False]\n",
    "roads_data = roads_data[roads_data['longitude'].isna() == False]"
   ]
  },
  {
   "cell_type": "code",
   "execution_count": 569,
   "metadata": {},
   "outputs": [],
   "source": [
    "roads_data.volume = (roads_data.volume - min_volume) / (max_volume - min_volume)\n",
    "roads_data.latitude = (roads_data.latitude - min_lat) / (max_lat - min_lat)\n",
    "roads_data.longitude = (roads_data.longitude - min_long) / (max_long - min_long)"
   ]
  },
  {
   "cell_type": "code",
   "execution_count": 570,
   "metadata": {},
   "outputs": [],
   "source": [
    "roads_data = pd.concat([roads_data,pd.get_dummies(roads_data['class'], prefix='class')],axis=1)\n",
    "roads_data = roads_data.drop(['class'], axis=1)"
   ]
  },
  {
   "cell_type": "code",
   "execution_count": 571,
   "metadata": {},
   "outputs": [],
   "source": [
    "roads_data = roads_data.set_index('trans_id')"
   ]
  },
  {
   "cell_type": "code",
   "execution_count": 627,
   "metadata": {},
   "outputs": [],
   "source": [
    "roads_data = roads_data[roads_data.isnull().any(axis=1) == False]"
   ]
  },
  {
   "cell_type": "code",
   "execution_count": 628,
   "metadata": {},
   "outputs": [],
   "source": [
    "roads_data.to_csv('street_segments.csv')"
   ]
  },
  {
   "cell_type": "code",
   "execution_count": null,
   "metadata": {},
   "outputs": [],
   "source": []
  },
  {
   "cell_type": "code",
   "execution_count": null,
   "metadata": {},
   "outputs": [],
   "source": []
  },
  {
   "cell_type": "code",
   "execution_count": null,
   "metadata": {},
   "outputs": [],
   "source": []
  },
  {
   "cell_type": "code",
   "execution_count": 650,
   "metadata": {},
   "outputs": [],
   "source": [
    "clf = pickle.load(open('random_forest.sav', 'rb'))\n",
    "street_data = pd.read_csv(\"street_segments.csv\", index_col=0)"
   ]
  },
  {
   "cell_type": "code",
   "execution_count": 651,
   "metadata": {},
   "outputs": [],
   "source": [
    "street_data['hour'] = 10\n",
    "street_data['month'] = 9\n",
    "street_data['weekday'] = 3\n",
    "street_data['Avg Temp'] = 70\n",
    "street_data['Precipitation Water Equiv'] = 0\n",
    "street_data['Snowfall'] = 0"
   ]
  },
  {
   "cell_type": "code",
   "execution_count": 652,
   "metadata": {},
   "outputs": [],
   "source": [
    "def get_scaled_value(value, mean, std):\n",
    "    return (value - mean)/ std"
   ]
  },
  {
   "cell_type": "code",
   "execution_count": 653,
   "metadata": {},
   "outputs": [],
   "source": [
    "max_volume = 165200\n",
    "min_volume = 0\n",
    "min_lat = 41.644670131999995\n",
    "max_lat = 42.022779861\n",
    "min_long = -87.933976504\n",
    "max_long = -87.52458738699998\n",
    "avg_temp_mean = 52.736361\n",
    "avg_temp_std = 20.625818\n",
    "avg_rain_mean = 0.117716\n",
    "avg_rain_std = 0.329548\n",
    "avg_snow_mean = 0.012092\n",
    "avg_snow_std = 0.104858\n",
    "length_mean = 439.04927\n",
    "length_std = 207.835484"
   ]
  },
  {
   "cell_type": "code",
   "execution_count": 654,
   "metadata": {},
   "outputs": [],
   "source": [
    "street_data[['hour']] = (street_data[['hour']] - 12)/ 12\n",
    "street_data[['month']] = (street_data[['month']] - 6) / 6"
   ]
  },
  {
   "cell_type": "code",
   "execution_count": 655,
   "metadata": {},
   "outputs": [],
   "source": [
    "street_data = pd.concat([street_data,pd.get_dummies(street_data['weekday'], prefix='weekday')],axis=1)\n",
    "street_data = street_data.drop(['weekday'], axis=1)"
   ]
  },
  {
   "cell_type": "code",
   "execution_count": 656,
   "metadata": {},
   "outputs": [],
   "source": [
    "street_data[['Avg Temp']] = get_scaled_value(street_data[['Avg Temp']], avg_temp_mean, avg_temp_std)\n",
    "street_data[['Precipitation Water Equiv']] = get_scaled_value(street_data[['Precipitation Water Equiv']], avg_rain_mean, avg_rain_std)\n",
    "street_data[['Snowfall']] = get_scaled_value(street_data[['Snowfall']], avg_snow_mean, avg_snow_std)\n",
    "street_data[['length']] = get_scaled_value(street_data[['length']], avg_snow_mean, avg_snow_std)"
   ]
  },
  {
   "cell_type": "code",
   "execution_count": 659,
   "metadata": {},
   "outputs": [],
   "source": [
    "one_hot_cols = ['weekday_0',\n",
    "       'weekday_1', 'weekday_2', 'weekday_3', 'weekday_4', 'weekday_5',\n",
    "       'weekday_6', 'class_1', 'class_2', 'class_3', 'class_4', 'class_5',\n",
    "       'class_7', 'class_9', 'class_99', 'class_E', 'class_RIV', 'class_S']\n",
    "cols = set(street_data.columns.tolist())\n",
    "for col in one_hot_cols:\n",
    "    if col not in cols:\n",
    "        street_data[col] = 0"
   ]
  },
  {
   "cell_type": "code",
   "execution_count": 662,
   "metadata": {},
   "outputs": [
    {
     "data": {
      "text/html": [
       "<div>\n",
       "<style scoped>\n",
       "    .dataframe tbody tr th:only-of-type {\n",
       "        vertical-align: middle;\n",
       "    }\n",
       "\n",
       "    .dataframe tbody tr th {\n",
       "        vertical-align: top;\n",
       "    }\n",
       "\n",
       "    .dataframe thead th {\n",
       "        text-align: right;\n",
       "    }\n",
       "</style>\n",
       "<table border=\"1\" class=\"dataframe\">\n",
       "  <thead>\n",
       "    <tr style=\"text-align: right;\">\n",
       "      <th></th>\n",
       "      <th>hour</th>\n",
       "      <th>latitude</th>\n",
       "      <th>length</th>\n",
       "      <th>longitude</th>\n",
       "      <th>month</th>\n",
       "      <th>volume</th>\n",
       "      <th>Avg Temp</th>\n",
       "      <th>Precipitation Water Equiv</th>\n",
       "      <th>Snowfall</th>\n",
       "      <th>weekday_0</th>\n",
       "      <th>weekday_1</th>\n",
       "      <th>weekday_2</th>\n",
       "      <th>weekday_3</th>\n",
       "      <th>weekday_4</th>\n",
       "      <th>weekday_5</th>\n",
       "      <th>weekday_6</th>\n",
       "      <th>class_1</th>\n",
       "      <th>class_2</th>\n",
       "      <th>class_3</th>\n",
       "      <th>class_4</th>\n",
       "      <th>class_5</th>\n",
       "      <th>class_7</th>\n",
       "      <th>class_9</th>\n",
       "      <th>class_99</th>\n",
       "      <th>class_E</th>\n",
       "      <th>class_RIV</th>\n",
       "      <th>class_S</th>\n",
       "      <th>one_way</th>\n",
       "    </tr>\n",
       "    <tr>\n",
       "      <th>trans_id</th>\n",
       "      <th></th>\n",
       "      <th></th>\n",
       "      <th></th>\n",
       "      <th></th>\n",
       "      <th></th>\n",
       "      <th></th>\n",
       "      <th></th>\n",
       "      <th></th>\n",
       "      <th></th>\n",
       "      <th></th>\n",
       "      <th></th>\n",
       "      <th></th>\n",
       "      <th></th>\n",
       "      <th></th>\n",
       "      <th></th>\n",
       "      <th></th>\n",
       "      <th></th>\n",
       "      <th></th>\n",
       "      <th></th>\n",
       "      <th></th>\n",
       "      <th></th>\n",
       "      <th></th>\n",
       "      <th></th>\n",
       "      <th></th>\n",
       "      <th></th>\n",
       "      <th></th>\n",
       "      <th></th>\n",
       "      <th></th>\n",
       "    </tr>\n",
       "  </thead>\n",
       "  <tbody>\n",
       "    <tr>\n",
       "      <th>118772</th>\n",
       "      <td>-0.166667</td>\n",
       "      <td>0.640056</td>\n",
       "      <td>4187.287179</td>\n",
       "      <td>0.781293</td>\n",
       "      <td>0.5</td>\n",
       "      <td>1.000000</td>\n",
       "      <td>0.836992</td>\n",
       "      <td>-0.357204</td>\n",
       "      <td>-0.115318</td>\n",
       "      <td>0</td>\n",
       "      <td>0</td>\n",
       "      <td>0</td>\n",
       "      <td>1</td>\n",
       "      <td>0</td>\n",
       "      <td>0</td>\n",
       "      <td>0</td>\n",
       "      <td>1</td>\n",
       "      <td>0</td>\n",
       "      <td>0</td>\n",
       "      <td>0</td>\n",
       "      <td>0</td>\n",
       "      <td>0</td>\n",
       "      <td>0</td>\n",
       "      <td>0</td>\n",
       "      <td>0</td>\n",
       "      <td>0</td>\n",
       "      <td>0</td>\n",
       "      <td>1</td>\n",
       "    </tr>\n",
       "    <tr>\n",
       "      <th>145323</th>\n",
       "      <td>-0.166667</td>\n",
       "      <td>0.636218</td>\n",
       "      <td>6050.242187</td>\n",
       "      <td>0.780796</td>\n",
       "      <td>0.5</td>\n",
       "      <td>0.115012</td>\n",
       "      <td>0.836992</td>\n",
       "      <td>-0.357204</td>\n",
       "      <td>-0.115318</td>\n",
       "      <td>0</td>\n",
       "      <td>0</td>\n",
       "      <td>0</td>\n",
       "      <td>1</td>\n",
       "      <td>0</td>\n",
       "      <td>0</td>\n",
       "      <td>0</td>\n",
       "      <td>0</td>\n",
       "      <td>0</td>\n",
       "      <td>0</td>\n",
       "      <td>0</td>\n",
       "      <td>0</td>\n",
       "      <td>0</td>\n",
       "      <td>1</td>\n",
       "      <td>0</td>\n",
       "      <td>0</td>\n",
       "      <td>0</td>\n",
       "      <td>0</td>\n",
       "      <td>1</td>\n",
       "    </tr>\n",
       "    <tr>\n",
       "      <th>130283</th>\n",
       "      <td>-0.166667</td>\n",
       "      <td>0.264617</td>\n",
       "      <td>6348.405737</td>\n",
       "      <td>0.779657</td>\n",
       "      <td>0.5</td>\n",
       "      <td>0.118644</td>\n",
       "      <td>0.836992</td>\n",
       "      <td>-0.357204</td>\n",
       "      <td>-0.115318</td>\n",
       "      <td>0</td>\n",
       "      <td>0</td>\n",
       "      <td>0</td>\n",
       "      <td>1</td>\n",
       "      <td>0</td>\n",
       "      <td>0</td>\n",
       "      <td>0</td>\n",
       "      <td>0</td>\n",
       "      <td>0</td>\n",
       "      <td>1</td>\n",
       "      <td>0</td>\n",
       "      <td>0</td>\n",
       "      <td>0</td>\n",
       "      <td>0</td>\n",
       "      <td>0</td>\n",
       "      <td>0</td>\n",
       "      <td>0</td>\n",
       "      <td>0</td>\n",
       "      <td>0</td>\n",
       "    </tr>\n",
       "    <tr>\n",
       "      <th>164056</th>\n",
       "      <td>-0.166667</td>\n",
       "      <td>0.267045</td>\n",
       "      <td>1703.079835</td>\n",
       "      <td>0.780393</td>\n",
       "      <td>0.5</td>\n",
       "      <td>0.056295</td>\n",
       "      <td>0.836992</td>\n",
       "      <td>-0.357204</td>\n",
       "      <td>-0.115318</td>\n",
       "      <td>0</td>\n",
       "      <td>0</td>\n",
       "      <td>0</td>\n",
       "      <td>1</td>\n",
       "      <td>0</td>\n",
       "      <td>0</td>\n",
       "      <td>0</td>\n",
       "      <td>0</td>\n",
       "      <td>0</td>\n",
       "      <td>0</td>\n",
       "      <td>1</td>\n",
       "      <td>0</td>\n",
       "      <td>0</td>\n",
       "      <td>0</td>\n",
       "      <td>0</td>\n",
       "      <td>0</td>\n",
       "      <td>0</td>\n",
       "      <td>0</td>\n",
       "      <td>1</td>\n",
       "    </tr>\n",
       "    <tr>\n",
       "      <th>128038</th>\n",
       "      <td>-0.166667</td>\n",
       "      <td>0.338027</td>\n",
       "      <td>6318.041220</td>\n",
       "      <td>0.861244</td>\n",
       "      <td>0.5</td>\n",
       "      <td>0.317797</td>\n",
       "      <td>0.836992</td>\n",
       "      <td>-0.357204</td>\n",
       "      <td>-0.115318</td>\n",
       "      <td>0</td>\n",
       "      <td>0</td>\n",
       "      <td>0</td>\n",
       "      <td>1</td>\n",
       "      <td>0</td>\n",
       "      <td>0</td>\n",
       "      <td>0</td>\n",
       "      <td>0</td>\n",
       "      <td>0</td>\n",
       "      <td>0</td>\n",
       "      <td>1</td>\n",
       "      <td>0</td>\n",
       "      <td>0</td>\n",
       "      <td>0</td>\n",
       "      <td>0</td>\n",
       "      <td>0</td>\n",
       "      <td>0</td>\n",
       "      <td>0</td>\n",
       "      <td>1</td>\n",
       "    </tr>\n",
       "    <tr>\n",
       "      <th>...</th>\n",
       "      <td>...</td>\n",
       "      <td>...</td>\n",
       "      <td>...</td>\n",
       "      <td>...</td>\n",
       "      <td>...</td>\n",
       "      <td>...</td>\n",
       "      <td>...</td>\n",
       "      <td>...</td>\n",
       "      <td>...</td>\n",
       "      <td>...</td>\n",
       "      <td>...</td>\n",
       "      <td>...</td>\n",
       "      <td>...</td>\n",
       "      <td>...</td>\n",
       "      <td>...</td>\n",
       "      <td>...</td>\n",
       "      <td>...</td>\n",
       "      <td>...</td>\n",
       "      <td>...</td>\n",
       "      <td>...</td>\n",
       "      <td>...</td>\n",
       "      <td>...</td>\n",
       "      <td>...</td>\n",
       "      <td>...</td>\n",
       "      <td>...</td>\n",
       "      <td>...</td>\n",
       "      <td>...</td>\n",
       "      <td>...</td>\n",
       "    </tr>\n",
       "    <tr>\n",
       "      <th>117620</th>\n",
       "      <td>-0.166667</td>\n",
       "      <td>0.680079</td>\n",
       "      <td>3067.683624</td>\n",
       "      <td>0.627176</td>\n",
       "      <td>0.5</td>\n",
       "      <td>0.143462</td>\n",
       "      <td>0.836992</td>\n",
       "      <td>-0.357204</td>\n",
       "      <td>-0.115318</td>\n",
       "      <td>0</td>\n",
       "      <td>0</td>\n",
       "      <td>0</td>\n",
       "      <td>1</td>\n",
       "      <td>0</td>\n",
       "      <td>0</td>\n",
       "      <td>0</td>\n",
       "      <td>0</td>\n",
       "      <td>0</td>\n",
       "      <td>1</td>\n",
       "      <td>0</td>\n",
       "      <td>0</td>\n",
       "      <td>0</td>\n",
       "      <td>0</td>\n",
       "      <td>0</td>\n",
       "      <td>0</td>\n",
       "      <td>0</td>\n",
       "      <td>0</td>\n",
       "      <td>0</td>\n",
       "    </tr>\n",
       "    <tr>\n",
       "      <th>164888</th>\n",
       "      <td>-0.166667</td>\n",
       "      <td>0.419517</td>\n",
       "      <td>2342.050462</td>\n",
       "      <td>0.535892</td>\n",
       "      <td>0.5</td>\n",
       "      <td>0.042373</td>\n",
       "      <td>0.836992</td>\n",
       "      <td>-0.357204</td>\n",
       "      <td>-0.115318</td>\n",
       "      <td>0</td>\n",
       "      <td>0</td>\n",
       "      <td>0</td>\n",
       "      <td>1</td>\n",
       "      <td>0</td>\n",
       "      <td>0</td>\n",
       "      <td>0</td>\n",
       "      <td>0</td>\n",
       "      <td>0</td>\n",
       "      <td>0</td>\n",
       "      <td>1</td>\n",
       "      <td>0</td>\n",
       "      <td>0</td>\n",
       "      <td>0</td>\n",
       "      <td>0</td>\n",
       "      <td>0</td>\n",
       "      <td>0</td>\n",
       "      <td>0</td>\n",
       "      <td>1</td>\n",
       "    </tr>\n",
       "    <tr>\n",
       "      <th>164890</th>\n",
       "      <td>-0.166667</td>\n",
       "      <td>0.420259</td>\n",
       "      <td>1922.351205</td>\n",
       "      <td>0.536989</td>\n",
       "      <td>0.5</td>\n",
       "      <td>0.042373</td>\n",
       "      <td>0.836992</td>\n",
       "      <td>-0.357204</td>\n",
       "      <td>-0.115318</td>\n",
       "      <td>0</td>\n",
       "      <td>0</td>\n",
       "      <td>0</td>\n",
       "      <td>1</td>\n",
       "      <td>0</td>\n",
       "      <td>0</td>\n",
       "      <td>0</td>\n",
       "      <td>0</td>\n",
       "      <td>0</td>\n",
       "      <td>0</td>\n",
       "      <td>1</td>\n",
       "      <td>0</td>\n",
       "      <td>0</td>\n",
       "      <td>0</td>\n",
       "      <td>0</td>\n",
       "      <td>0</td>\n",
       "      <td>0</td>\n",
       "      <td>0</td>\n",
       "      <td>1</td>\n",
       "    </tr>\n",
       "    <tr>\n",
       "      <th>164905</th>\n",
       "      <td>-0.166667</td>\n",
       "      <td>0.034279</td>\n",
       "      <td>2552.464843</td>\n",
       "      <td>0.919506</td>\n",
       "      <td>0.5</td>\n",
       "      <td>0.098063</td>\n",
       "      <td>0.836992</td>\n",
       "      <td>-0.357204</td>\n",
       "      <td>-0.115318</td>\n",
       "      <td>0</td>\n",
       "      <td>0</td>\n",
       "      <td>0</td>\n",
       "      <td>1</td>\n",
       "      <td>0</td>\n",
       "      <td>0</td>\n",
       "      <td>0</td>\n",
       "      <td>0</td>\n",
       "      <td>0</td>\n",
       "      <td>1</td>\n",
       "      <td>0</td>\n",
       "      <td>0</td>\n",
       "      <td>0</td>\n",
       "      <td>0</td>\n",
       "      <td>0</td>\n",
       "      <td>0</td>\n",
       "      <td>0</td>\n",
       "      <td>0</td>\n",
       "      <td>1</td>\n",
       "    </tr>\n",
       "    <tr>\n",
       "      <th>164902</th>\n",
       "      <td>-0.166667</td>\n",
       "      <td>0.579645</td>\n",
       "      <td>901.471527</td>\n",
       "      <td>0.617763</td>\n",
       "      <td>0.5</td>\n",
       "      <td>0.113196</td>\n",
       "      <td>0.836992</td>\n",
       "      <td>-0.357204</td>\n",
       "      <td>-0.115318</td>\n",
       "      <td>0</td>\n",
       "      <td>0</td>\n",
       "      <td>0</td>\n",
       "      <td>1</td>\n",
       "      <td>0</td>\n",
       "      <td>0</td>\n",
       "      <td>0</td>\n",
       "      <td>0</td>\n",
       "      <td>0</td>\n",
       "      <td>0</td>\n",
       "      <td>0</td>\n",
       "      <td>0</td>\n",
       "      <td>0</td>\n",
       "      <td>0</td>\n",
       "      <td>0</td>\n",
       "      <td>1</td>\n",
       "      <td>0</td>\n",
       "      <td>0</td>\n",
       "      <td>1</td>\n",
       "    </tr>\n",
       "  </tbody>\n",
       "</table>\n",
       "<p>55715 rows × 28 columns</p>\n",
       "</div>"
      ],
      "text/plain": [
       "              hour  latitude       length  longitude  month    volume  \\\n",
       "trans_id                                                                \n",
       "118772   -0.166667  0.640056  4187.287179   0.781293    0.5  1.000000   \n",
       "145323   -0.166667  0.636218  6050.242187   0.780796    0.5  0.115012   \n",
       "130283   -0.166667  0.264617  6348.405737   0.779657    0.5  0.118644   \n",
       "164056   -0.166667  0.267045  1703.079835   0.780393    0.5  0.056295   \n",
       "128038   -0.166667  0.338027  6318.041220   0.861244    0.5  0.317797   \n",
       "...            ...       ...          ...        ...    ...       ...   \n",
       "117620   -0.166667  0.680079  3067.683624   0.627176    0.5  0.143462   \n",
       "164888   -0.166667  0.419517  2342.050462   0.535892    0.5  0.042373   \n",
       "164890   -0.166667  0.420259  1922.351205   0.536989    0.5  0.042373   \n",
       "164905   -0.166667  0.034279  2552.464843   0.919506    0.5  0.098063   \n",
       "164902   -0.166667  0.579645   901.471527   0.617763    0.5  0.113196   \n",
       "\n",
       "          Avg Temp  Precipitation Water Equiv  Snowfall  weekday_0  weekday_1  \\\n",
       "trans_id                                                                        \n",
       "118772    0.836992                  -0.357204 -0.115318          0          0   \n",
       "145323    0.836992                  -0.357204 -0.115318          0          0   \n",
       "130283    0.836992                  -0.357204 -0.115318          0          0   \n",
       "164056    0.836992                  -0.357204 -0.115318          0          0   \n",
       "128038    0.836992                  -0.357204 -0.115318          0          0   \n",
       "...            ...                        ...       ...        ...        ...   \n",
       "117620    0.836992                  -0.357204 -0.115318          0          0   \n",
       "164888    0.836992                  -0.357204 -0.115318          0          0   \n",
       "164890    0.836992                  -0.357204 -0.115318          0          0   \n",
       "164905    0.836992                  -0.357204 -0.115318          0          0   \n",
       "164902    0.836992                  -0.357204 -0.115318          0          0   \n",
       "\n",
       "          weekday_2  weekday_3  weekday_4  weekday_5  weekday_6  class_1  \\\n",
       "trans_id                                                                   \n",
       "118772            0          1          0          0          0        1   \n",
       "145323            0          1          0          0          0        0   \n",
       "130283            0          1          0          0          0        0   \n",
       "164056            0          1          0          0          0        0   \n",
       "128038            0          1          0          0          0        0   \n",
       "...             ...        ...        ...        ...        ...      ...   \n",
       "117620            0          1          0          0          0        0   \n",
       "164888            0          1          0          0          0        0   \n",
       "164890            0          1          0          0          0        0   \n",
       "164905            0          1          0          0          0        0   \n",
       "164902            0          1          0          0          0        0   \n",
       "\n",
       "          class_2  class_3  class_4  class_5  class_7  class_9  class_99  \\\n",
       "trans_id                                                                   \n",
       "118772          0        0        0        0        0        0         0   \n",
       "145323          0        0        0        0        0        1         0   \n",
       "130283          0        1        0        0        0        0         0   \n",
       "164056          0        0        1        0        0        0         0   \n",
       "128038          0        0        1        0        0        0         0   \n",
       "...           ...      ...      ...      ...      ...      ...       ...   \n",
       "117620          0        1        0        0        0        0         0   \n",
       "164888          0        0        1        0        0        0         0   \n",
       "164890          0        0        1        0        0        0         0   \n",
       "164905          0        1        0        0        0        0         0   \n",
       "164902          0        0        0        0        0        0         0   \n",
       "\n",
       "          class_E  class_RIV  class_S  one_way  \n",
       "trans_id                                        \n",
       "118772          0          0        0        1  \n",
       "145323          0          0        0        1  \n",
       "130283          0          0        0        0  \n",
       "164056          0          0        0        1  \n",
       "128038          0          0        0        1  \n",
       "...           ...        ...      ...      ...  \n",
       "117620          0          0        0        0  \n",
       "164888          0          0        0        1  \n",
       "164890          0          0        0        1  \n",
       "164905          0          0        0        1  \n",
       "164902          1          0        0        1  \n",
       "\n",
       "[55715 rows x 28 columns]"
      ]
     },
     "execution_count": 662,
     "metadata": {},
     "output_type": "execute_result"
    }
   ],
   "source": [
    "X = street_data[['hour', 'latitude', 'length', 'longitude', 'month', 'volume',\n",
    "       'Avg Temp', 'Precipitation Water Equiv', 'Snowfall', 'weekday_0',\n",
    "       'weekday_1', 'weekday_2', 'weekday_3', 'weekday_4', 'weekday_5',\n",
    "       'weekday_6', 'class_1', 'class_2', 'class_3', 'class_4', 'class_5',\n",
    "       'class_7', 'class_9', 'class_99', 'class_E', 'class_RIV', 'class_S',\n",
    "       'one_way']]"
   ]
  },
  {
   "cell_type": "code",
   "execution_count": 676,
   "metadata": {},
   "outputs": [],
   "source": [
    "preds_y = clf.predict_proba(X)\n",
    "safety_scores = pd.Series(preds_y[:,0].tolist())"
   ]
  },
  {
   "cell_type": "code",
   "execution_count": 677,
   "metadata": {},
   "outputs": [
    {
     "name": "stderr",
     "output_type": "stream",
     "text": [
      "/Library/Frameworks/Python.framework/Versions/3.7/lib/python3.7/site-packages/ipykernel_launcher.py:2: SettingWithCopyWarning: \n",
      "A value is trying to be set on a copy of a slice from a DataFrame.\n",
      "Try using .loc[row_indexer,col_indexer] = value instead\n",
      "\n",
      "See the caveats in the documentation: http://pandas.pydata.org/pandas-docs/stable/user_guide/indexing.html#returning-a-view-versus-a-copy\n",
      "  \n"
     ]
    }
   ],
   "source": [
    "street_segs = street_data[['latitude', 'longitude']]\n",
    "street_segs['safety_score'] = safety_scores.values"
   ]
  },
  {
   "cell_type": "code",
   "execution_count": 678,
   "metadata": {},
   "outputs": [
    {
     "data": {
      "text/html": [
       "<div>\n",
       "<style scoped>\n",
       "    .dataframe tbody tr th:only-of-type {\n",
       "        vertical-align: middle;\n",
       "    }\n",
       "\n",
       "    .dataframe tbody tr th {\n",
       "        vertical-align: top;\n",
       "    }\n",
       "\n",
       "    .dataframe thead th {\n",
       "        text-align: right;\n",
       "    }\n",
       "</style>\n",
       "<table border=\"1\" class=\"dataframe\">\n",
       "  <thead>\n",
       "    <tr style=\"text-align: right;\">\n",
       "      <th></th>\n",
       "      <th>latitude</th>\n",
       "      <th>longitude</th>\n",
       "      <th>safety_score</th>\n",
       "    </tr>\n",
       "    <tr>\n",
       "      <th>trans_id</th>\n",
       "      <th></th>\n",
       "      <th></th>\n",
       "      <th></th>\n",
       "    </tr>\n",
       "  </thead>\n",
       "  <tbody>\n",
       "    <tr>\n",
       "      <th>118772</th>\n",
       "      <td>0.640056</td>\n",
       "      <td>0.781293</td>\n",
       "      <td>0.46</td>\n",
       "    </tr>\n",
       "    <tr>\n",
       "      <th>145323</th>\n",
       "      <td>0.636218</td>\n",
       "      <td>0.780796</td>\n",
       "      <td>0.38</td>\n",
       "    </tr>\n",
       "    <tr>\n",
       "      <th>130283</th>\n",
       "      <td>0.264617</td>\n",
       "      <td>0.779657</td>\n",
       "      <td>0.50</td>\n",
       "    </tr>\n",
       "    <tr>\n",
       "      <th>164056</th>\n",
       "      <td>0.267045</td>\n",
       "      <td>0.780393</td>\n",
       "      <td>0.82</td>\n",
       "    </tr>\n",
       "    <tr>\n",
       "      <th>128038</th>\n",
       "      <td>0.338027</td>\n",
       "      <td>0.861244</td>\n",
       "      <td>0.70</td>\n",
       "    </tr>\n",
       "    <tr>\n",
       "      <th>...</th>\n",
       "      <td>...</td>\n",
       "      <td>...</td>\n",
       "      <td>...</td>\n",
       "    </tr>\n",
       "    <tr>\n",
       "      <th>117620</th>\n",
       "      <td>0.680079</td>\n",
       "      <td>0.627176</td>\n",
       "      <td>0.56</td>\n",
       "    </tr>\n",
       "    <tr>\n",
       "      <th>164888</th>\n",
       "      <td>0.419517</td>\n",
       "      <td>0.535892</td>\n",
       "      <td>0.98</td>\n",
       "    </tr>\n",
       "    <tr>\n",
       "      <th>164890</th>\n",
       "      <td>0.420259</td>\n",
       "      <td>0.536989</td>\n",
       "      <td>0.96</td>\n",
       "    </tr>\n",
       "    <tr>\n",
       "      <th>164905</th>\n",
       "      <td>0.034279</td>\n",
       "      <td>0.919506</td>\n",
       "      <td>0.98</td>\n",
       "    </tr>\n",
       "    <tr>\n",
       "      <th>164902</th>\n",
       "      <td>0.579645</td>\n",
       "      <td>0.617763</td>\n",
       "      <td>0.96</td>\n",
       "    </tr>\n",
       "  </tbody>\n",
       "</table>\n",
       "<p>55715 rows × 3 columns</p>\n",
       "</div>"
      ],
      "text/plain": [
       "          latitude  longitude  safety_score\n",
       "trans_id                                   \n",
       "118772    0.640056   0.781293          0.46\n",
       "145323    0.636218   0.780796          0.38\n",
       "130283    0.264617   0.779657          0.50\n",
       "164056    0.267045   0.780393          0.82\n",
       "128038    0.338027   0.861244          0.70\n",
       "...            ...        ...           ...\n",
       "117620    0.680079   0.627176          0.56\n",
       "164888    0.419517   0.535892          0.98\n",
       "164890    0.420259   0.536989          0.96\n",
       "164905    0.034279   0.919506          0.98\n",
       "164902    0.579645   0.617763          0.96\n",
       "\n",
       "[55715 rows x 3 columns]"
      ]
     },
     "execution_count": 678,
     "metadata": {},
     "output_type": "execute_result"
    }
   ],
   "source": []
  },
  {
   "cell_type": "code",
   "execution_count": null,
   "metadata": {},
   "outputs": [],
   "source": []
  }
 ],
 "metadata": {
  "kernelspec": {
   "display_name": "Python 3",
   "language": "python",
   "name": "python3"
  },
  "language_info": {
   "codemirror_mode": {
    "name": "ipython",
    "version": 3
   },
   "file_extension": ".py",
   "mimetype": "text/x-python",
   "name": "python",
   "nbconvert_exporter": "python",
   "pygments_lexer": "ipython3",
   "version": "3.7.0"
  }
 },
 "nbformat": 4,
 "nbformat_minor": 2
}
